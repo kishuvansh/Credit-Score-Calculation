{
 "cells": [
  {
   "cell_type": "code",
   "execution_count": 5,
   "id": "ca74aa06",
   "metadata": {},
   "outputs": [
    {
     "name": "stdout",
     "output_type": "stream",
     "text": [
      "--- Initializing Project Nova Model Pipeline ---\n"
     ]
    }
   ],
   "source": [
    "print(\"--- Initializing Project Nova Model Pipeline ---\")"
   ]
  },
  {
   "cell_type": "code",
   "execution_count": 7,
   "id": "9d6e89ae",
   "metadata": {},
   "outputs": [],
   "source": [
    "import pandas as pd\n",
    "import numpy as np\n",
    "import warnings\n",
    "import seaborn as sns\n",
    "import matplotlib.pyplot as plt\n",
    "import lightgbm as lgb\n",
    "from sklearn.model_selection import train_test_split\n",
    "from sklearn.metrics import classification_report, confusion_matrix, roc_auc_score\n",
    "\n",
    "warnings.simplefilter(action='ignore', category=FutureWarning)\n"
   ]
  },
  {
   "cell_type": "code",
   "execution_count": 8,
   "id": "112d5729",
   "metadata": {},
   "outputs": [
    {
     "name": "stderr",
     "output_type": "stream",
     "text": [
      "<>:13: SyntaxWarning: invalid escape sequence '\\d'\n",
      "<>:13: SyntaxWarning: invalid escape sequence '\\d'\n",
      "/var/folders/1d/1zb8hrbs45j_dsmv4zxmzx580000gn/T/ipykernel_15589/2697727812.py:13: SyntaxWarning: invalid escape sequence '\\d'\n",
      "  df['term'] = df['term'].str.extract('(\\d+)').astype(int)\n"
     ]
    },
    {
     "name": "stdout",
     "output_type": "stream",
     "text": [
      "\n",
      "--- Step 1 & 2: Loading and Preprocessing Data ---\n",
      "\n",
      "--- Step 3: Engineering Features and Preparing Data ---\n",
      "\n",
      "--- Step 4: Training a Robust, Balanced Model ---\n",
      "Calculated scale_pos_weight: 4.00\n",
      "Model training complete.\n",
      "\n",
      "--- Step 5: Evaluating the Final Model ---\n",
      "\n",
      "--- Classification Report ---\n",
      "              precision    recall  f1-score   support\n",
      "\n",
      "           0       0.87      0.65      0.74     21486\n",
      "           1       0.30      0.60      0.40      5375\n",
      "\n",
      "    accuracy                           0.64     26861\n",
      "   macro avg       0.58      0.63      0.57     26861\n",
      "weighted avg       0.75      0.64      0.68     26861\n",
      "\n",
      "\n",
      "--- ROC-AUC Score ---\n",
      "The ROC-AUC score for the model is: 0.6738\n"
     ]
    },
    {
     "data": {
      "image/png": "[encoded data removed]",
      "text/plain": [
       "<Figure size 800x600 with 2 Axes>"
      ]
     },
     "metadata": {},
     "output_type": "display_data"
    },
    {
     "name": "stdout",
     "output_type": "stream",
     "text": [
      "\n",
      "--- Project Nova Corrected Model Pipeline Finished ---\n"
     ]
    }
   ],
   "source": [
    "print(\"\\n--- Step 1 & 2: Loading and Preprocessing Data ---\")\n",
    "try:\n",
    "    df_full = pd.read_csv('project_nova_dataset.csv', low_memory=False)\n",
    "    df = df_full.sample(frac=0.1, random_state=42)\n",
    "    features_to_use = [\n",
    "        'loan_status', 'loan_amnt', 'term', 'purpose', 'home_ownership', \n",
    "        'annual_inc', 'emp_length', 'dti', 'revol_util', \n",
    "        'inq_last_6mths', 'pub_rec_bankruptcies'\n",
    "    ]\n",
    "    df = df[features_to_use].copy()\n",
    "    df = df[df['loan_status'].isin(['Fully Paid', 'Charged Off'])]\n",
    "    df['loan_status'] = np.where(df['loan_status'] == 'Charged Off', 1, 0)\n",
    "    df['term'] = df['term'].str.extract('(\\d+)').astype(int)\n",
    "    emp_map = {'< 1 year': 0.5, '1 year': 1, '2 years': 2, '3 years': 3, '4 years': 4,\n",
    "               '5 years': 5, '6 years': 6, '7 years': 7, '8 years': 8, '9 years': 9,\n",
    "               '10+ years': 10}\n",
    "    df['emp_length'] = df['emp_length'].map(emp_map)\n",
    "    df['emp_length'].fillna(0, inplace=True)\n",
    "    df['revol_util'].fillna(0, inplace=True)\n",
    "    df['pub_rec_bankruptcies'].fillna(0, inplace=True)\n",
    "    df['dti'].fillna(df['dti'].median(), inplace=True)\n",
    "    inc_cap = df['annual_inc'].quantile(0.995)\n",
    "    df['annual_inc'] = df['annual_inc'].clip(upper=inc_cap)\n",
    "except FileNotFoundError:\n",
    "    print(\"Error: 'project_nova_dataset.csv' not found.\")\n",
    "    exit()\n",
    "\n",
    "# =============================================================================\n",
    "# 3. FEATURE ENGINEERING AND DATA PREPARATION (No Changes)\n",
    "# =============================================================================\n",
    "print(\"\\n--- Step 3: Engineering Features and Preparing Data ---\")\n",
    "df['loan_to_income_ratio'] = df['loan_amnt'] / (df['annual_inc'] + 1)\n",
    "df['credit_stress_indicator'] = df['dti'] * df['revol_util']\n",
    "df = pd.get_dummies(df, columns=['home_ownership', 'purpose'], drop_first=True)\n",
    "X = df.drop('loan_status', axis=1)\n",
    "y = df['loan_status']\n",
    "X_train, X_test, y_train, y_test = train_test_split(\n",
    "    X, y, test_size=0.2, random_state=42, stratify=y\n",
    ")\n",
    "\n",
    "# =============================================================================\n",
    "# 4. ROBUST MODEL TRAINING (SIMPLIFIED AND CORRECTED)\n",
    "# =============================================================================\n",
    "print(\"\\n--- Step 4: Training a Robust, Balanced Model ---\")\n",
    "\n",
    "# --- Calculate scale_pos_weight to handle class imbalance ---\n",
    "num_neg = y_train.value_counts()[0]\n",
    "num_pos = y_train.value_counts()[1]\n",
    "scale_pos_weight_value = num_neg / num_pos\n",
    "print(f\"Calculated scale_pos_weight: {scale_pos_weight_value:.2f}\")\n",
    "\n",
    "# --- Use a reliable set of parameters ---\n",
    "# We are removing the complex Optuna search for now to ensure stability\n",
    "model_params = {\n",
    "    'objective': 'binary',\n",
    "    'metric': 'auc',\n",
    "    'boosting_type': 'gbdt',\n",
    "    'n_estimators': 1000,\n",
    "    'learning_rate': 0.05,\n",
    "    'num_leaves': 31,\n",
    "    'max_depth': -1,\n",
    "    'seed': 42,\n",
    "    'n_jobs': -1,\n",
    "    'verbose': -1,\n",
    "    'colsample_bytree': 0.8,\n",
    "    'subsample': 0.8,\n",
    "    'scale_pos_weight': scale_pos_weight_value # This is the most important parameter\n",
    "}\n",
    "\n",
    "model = lgb.LGBMClassifier(**model_params)\n",
    "\n",
    "# Train with early stopping to prevent overfitting\n",
    "model.fit(X_train, y_train,\n",
    "          eval_set=[(X_test, y_test)],\n",
    "          eval_metric='auc',\n",
    "          callbacks=[lgb.early_stopping(100, verbose=False)])\n",
    "\n",
    "print(\"Model training complete.\")\n",
    "\n",
    "# =============================================================================\n",
    "# 5. FINAL MODEL EVALUATION (SIMPLIFIED AND CORRECTED)\n",
    "# =============================================================================\n",
    "print(\"\\n--- Step 5: Evaluating the Final Model ---\")\n",
    "\n",
    "# --- Make predictions using the default 0.5 threshold ---\n",
    "# The scale_pos_weight already adjusts the model's learning, \n",
    "# so we can evaluate it directly without finding a new threshold.\n",
    "y_pred = model.predict(X_test)\n",
    "y_pred_proba = model.predict_proba(X_test)[:, 1]\n",
    "\n",
    "# --- Evaluation ---\n",
    "print(\"\\n--- Classification Report ---\")\n",
    "print(classification_report(y_test, y_pred))\n",
    "\n",
    "print(\"\\n--- ROC-AUC Score ---\")\n",
    "auc_score = roc_auc_score(y_test, y_pred_proba)\n",
    "print(f\"The ROC-AUC score for the model is: {auc_score:.4f}\")\n",
    "\n",
    "# --- Plot Confusion Matrix ---\n",
    "plt.figure(figsize=(8, 6))\n",
    "cm = confusion_matrix(y_test, y_pred)\n",
    "sns.heatmap(cm, annot=True, fmt='d', cmap='Blues',\n",
    "            xticklabels=['Paid', 'Default'],\n",
    "            yticklabels=['Paid', 'Default']) # Corrected labels\n",
    "plt.xlabel('Predicted Label')\n",
    "plt.ylabel('True Label')\n",
    "plt.title('Confusion Matrix of Corrected Model')\n",
    "plt.show()\n",
    "\n",
    "print(\"\\n--- Project Nova Corrected Model Pipeline Finished ---\")"
   ]
  }
 ],
 "metadata": {
  "kernelspec": {
   "display_name": "Python 3",
   "language": "python",
   "name": "python3"
  },
  "language_info": {
   "codemirror_mode": {
    "name": "ipython",
    "version": 3
   },
   "file_extension": ".py",
   "mimetype": "text/x-python",
   "name": "python",
   "nbconvert_exporter": "python",
   "pygments_lexer": "ipython3",
   "version": "3.13.5"
  }
 },
 "nbformat": 4,
 "nbformat_minor": 5
}
